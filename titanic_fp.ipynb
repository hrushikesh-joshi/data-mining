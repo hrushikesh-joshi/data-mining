{
 "cells": [
  {
   "cell_type": "markdown",
   "metadata": {},
   "source": [
    "# Data Mining in Titanic Data\n",
    "1. [Introduction](#introduction)\n",
    "1. [Association Rule Mining](#association-rule-mining)\n",
    "1. [Association Rule Mining on Titanic Data](#association-rule-mining-on-titanic-data)\n",
    "    - [Ready Up](#ready-up)\n",
    "    - [Data Visualization with Plots](#data-visualization-with-plots)\n",
    "    - [Analysis - Methodology](#analysis---methodology)\n",
    "    - [Gender Analysis](#gender-analysis)\n",
    "    - [Gender Result](#gender-result)\n",
    "    - [Title Analysis](#title-analysis)\n",
    "    - [Title Result](#title-result)\n",
    "1. [Algorithm Evaluation](#algorithm-evaluation)        \n",
    "1. [References](#references)\n",
    "\n",
    "\n",
    "## Introduction\n",
    "---\n",
    "\n",
    "In real world, We deal with various types of data for example <mark>date</mark>, <mark>currency</mark>, <mark>stock rate</mark>, \n",
    "<mark>categories</mark> and <mark>rank</mark>. These are all not same data types and also not easy to associate these all in single \n",
    "line information. There are lot of methods in **Data Mining** to extract the association or information from the complex data. Some methods are,\n",
    "\n",
    "- Classification \n",
    "- Estimation \n",
    "- Prediction \n",
    "- Affinity Grouping or Association Rules \n",
    "- Clustering \n",
    "- Anomaly Detection\n",
    "\n",
    "In this post, I tried to explain the data mining process on **Nominal Data Set**.  \n",
    "The technique to extract the interesting information from Nominal data or Categorical data\n",
    "is **Association Rule Mining**.\n",
    "\n",
    "# Association Rules Mining\n",
    "\n",
    "### Algorithms:\n",
    "---\n",
    "\n",
    "- Apriori\n",
    "- FP Growth\n",
    "\n",
    "---\n",
    "\n",
    "### Parameters:\n",
    "---\n",
    "\n",
    "1. **Support**\n",
    "    - Ratio of the particular Object observation count to the total count.\n",
    "    - In another words, the percentage of a object strength in total strength.   \n",
    "    - Range \\[0 - 1]\n",
    " \n",
    "    $$  \n",
    "        Support(B) = {Observations containing (B) \\over Total Observations }\n",
    "    $$\n",
    "    \n",
    "1. **Confidence**\n",
    "    - How much confident association has with its pair.\n",
    "    - Range \\[0 - 1] \n",
    "\n",
    "    $$\n",
    "        Confidence(A→B) = { Observations containing both (A and B)) \\over (Observations containing A)}\n",
    "    $$\n",
    "    \n",
    "1. **Lift**\n",
    "    - How much likely associated than individually occurred.\n",
    "    - Range \\[0 - inf]\n",
    "    - if <mark>lift > 1</mark> means, It is an **interesting scenario** to consider.\n",
    "\n",
    "    $$\n",
    "    Lift(A→B) = {Confidence (A→B) \\over Support (B)}\n",
    "    $$\n",
    "        \n",
    "1. **Leverage**\n",
    "    - Range  \\[-1, 1]\n",
    "    - If <mark>leverage =0 </mark> means, Both are independent.\n",
    "    \n",
    "    $$\n",
    "    L (A → B) =  {S (A→B) \\over S (A) * S (B)}\n",
    "    $$\n",
    "        \n",
    "1. **Conviction**\n",
    "    - It is the metric to find the dependency on **premise** by the **consequent**.    \n",
    "    - Range \\[0 - inf]\n",
    "    - If <mark>conviction = 1</mark>, items are independent.\n",
    "    - High Confident with Lower support. That means it is mostly **depends** on the another product.\n",
    "    \n",
    "    $$\n",
    "    C (A -> B) = {1 - S (B) \\over 1 - Confidence (A → B)}\n",
    "    $$   \n",
    "\n",
    "---\n",
    "\n",
    "### Checking up the environment\n",
    "---"
   ]
  },
  {
   "cell_type": "markdown",
   "metadata": {},
   "source": [
    "### Import Packages\n",
    "---"
   ]
  },
  {
   "cell_type": "code",
   "execution_count": 1,
   "metadata": {
    "_cell_guid": "b1076dfc-b9ad-4769-8c92-a6c4dae69d19",
    "_uuid": "8f2839f25d086af736a60e9eeb907d3b93b6e0e5"
   },
   "outputs": [
    {
     "name": "stderr",
     "output_type": "stream",
     "text": [
      "C:\\ProgramData\\Anaconda3\\lib\\site-packages\\seaborn\\rcmod.py:82: DeprecationWarning: distutils Version classes are deprecated. Use packaging.version instead.\n",
      "  if LooseVersion(mpl.__version__) >= \"3.0\":\n",
      "C:\\ProgramData\\Anaconda3\\lib\\site-packages\\setuptools\\_distutils\\version.py:346: DeprecationWarning: distutils Version classes are deprecated. Use packaging.version instead.\n",
      "  other = LooseVersion(other)\n"
     ]
    }
   ],
   "source": [
    "import warnings\n",
    "warnings.filterwarnings(\"ignore\")\n",
    "\n",
    "import matplotlib.pyplot as plt\n",
    "import pandas as pd\n",
    "from mlxtend.preprocessing import TransactionEncoder\n",
    "from mlxtend.frequent_patterns import apriori, association_rules\n",
    "\n",
    "import seaborn as sns"
   ]
  },
  {
   "cell_type": "markdown",
   "metadata": {},
   "source": [
    "### Loading Data-set\n",
    "---"
   ]
  },
  {
   "cell_type": "code",
   "execution_count": 2,
   "metadata": {},
   "outputs": [
    {
     "name": "stderr",
     "output_type": "stream",
     "text": [
      "<>:4: DeprecationWarning: invalid escape sequence \\,\n",
      "<>:4: DeprecationWarning: invalid escape sequence \\,\n",
      "C:\\Users\\spark\\AppData\\Local\\Temp\\ipykernel_24768\\2275600996.py:4: DeprecationWarning: invalid escape sequence \\,\n",
      "  titanic['Title'] = titanic.Name.str.extract('\\, ([A-Z][^ ]*\\.)',expand=False)\n"
     ]
    }
   ],
   "source": [
    "titanic = pd.read_csv('train.csv')\n",
    "nominal_cols = ['Embarked','Pclass','Age', 'Survived', 'Sex']\n",
    "cat_cols = ['Embarked','Pclass','Age', 'Survived', 'Title']\n",
    "titanic['Title'] = titanic.Name.str.extract('\\, ([A-Z][^ ]*\\.)',expand=False)\n",
    "titanic['Title'].fillna('Title_UK', inplace=True)\n",
    "titanic['Embarked'].fillna('Unknown',inplace=True)\n",
    "titanic['Age'].fillna(0, inplace=True)\n",
    "# Replacing Binary with String\n",
    "rep = {0: \"Dead\", 1: \"Survived\"}\n",
    "titanic.replace({'Survived' : rep}, inplace=True)"
   ]
  },
  {
   "cell_type": "markdown",
   "metadata": {},
   "source": [
    "### Binning Age Column\n",
    "---"
   ]
  },
  {
   "cell_type": "code",
   "execution_count": 3,
   "metadata": {},
   "outputs": [],
   "source": [
    "def binning(col, cut_points, labels=None):\n",
    "  minval = col.min()\n",
    "  maxval = col.max()\n",
    "  break_points = [minval] + cut_points + [maxval]\n",
    "  if not labels:\n",
    "    labels = range(len(cut_points)+1)\n",
    "  colBin = pd.cut(col,bins=break_points,labels=labels,include_lowest=True)\n",
    "  return colBin\n",
    "\n",
    "cut_points = [1, 10, 20, 50 ]\n",
    "labels = [\"Unknown\", \"Child\", \"Teen\", \"Adult\", \"Old\"]\n",
    "titanic['Age'] = binning(titanic['Age'], cut_points, labels)\n",
    "in_titanic = titanic[nominal_cols]\n",
    "cat_titanic = titanic[cat_cols]"
   ]
  },
  {
   "cell_type": "markdown",
   "metadata": {},
   "source": [
    "### Gender Data\n",
    "---"
   ]
  },
  {
   "cell_type": "code",
   "execution_count": 4,
   "metadata": {},
   "outputs": [
    {
     "data": {
      "text/html": [
       "<div>\n",
       "<style scoped>\n",
       "    .dataframe tbody tr th:only-of-type {\n",
       "        vertical-align: middle;\n",
       "    }\n",
       "\n",
       "    .dataframe tbody tr th {\n",
       "        vertical-align: top;\n",
       "    }\n",
       "\n",
       "    .dataframe thead th {\n",
       "        text-align: right;\n",
       "    }\n",
       "</style>\n",
       "<table border=\"1\" class=\"dataframe\">\n",
       "  <thead>\n",
       "    <tr style=\"text-align: right;\">\n",
       "      <th></th>\n",
       "      <th>Embarked</th>\n",
       "      <th>Pclass</th>\n",
       "      <th>Age</th>\n",
       "      <th>Survived</th>\n",
       "      <th>Sex</th>\n",
       "    </tr>\n",
       "  </thead>\n",
       "  <tbody>\n",
       "    <tr>\n",
       "      <th>0</th>\n",
       "      <td>S</td>\n",
       "      <td>3</td>\n",
       "      <td>Adult</td>\n",
       "      <td>Dead</td>\n",
       "      <td>male</td>\n",
       "    </tr>\n",
       "    <tr>\n",
       "      <th>1</th>\n",
       "      <td>C</td>\n",
       "      <td>1</td>\n",
       "      <td>Adult</td>\n",
       "      <td>Survived</td>\n",
       "      <td>female</td>\n",
       "    </tr>\n",
       "    <tr>\n",
       "      <th>2</th>\n",
       "      <td>S</td>\n",
       "      <td>3</td>\n",
       "      <td>Adult</td>\n",
       "      <td>Survived</td>\n",
       "      <td>female</td>\n",
       "    </tr>\n",
       "    <tr>\n",
       "      <th>3</th>\n",
       "      <td>S</td>\n",
       "      <td>1</td>\n",
       "      <td>Adult</td>\n",
       "      <td>Survived</td>\n",
       "      <td>female</td>\n",
       "    </tr>\n",
       "    <tr>\n",
       "      <th>4</th>\n",
       "      <td>S</td>\n",
       "      <td>3</td>\n",
       "      <td>Adult</td>\n",
       "      <td>Dead</td>\n",
       "      <td>male</td>\n",
       "    </tr>\n",
       "  </tbody>\n",
       "</table>\n",
       "</div>"
      ],
      "text/plain": [
       "  Embarked  Pclass    Age  Survived     Sex\n",
       "0        S       3  Adult      Dead    male\n",
       "1        C       1  Adult  Survived  female\n",
       "2        S       3  Adult  Survived  female\n",
       "3        S       1  Adult  Survived  female\n",
       "4        S       3  Adult      Dead    male"
      ]
     },
     "execution_count": 4,
     "metadata": {},
     "output_type": "execute_result"
    }
   ],
   "source": [
    "in_titanic.head()"
   ]
  },
  {
   "cell_type": "markdown",
   "metadata": {},
   "source": [
    "### Title Data\n",
    "---"
   ]
  },
  {
   "cell_type": "code",
   "execution_count": 5,
   "metadata": {},
   "outputs": [
    {
     "data": {
      "text/html": [
       "<div>\n",
       "<style scoped>\n",
       "    .dataframe tbody tr th:only-of-type {\n",
       "        vertical-align: middle;\n",
       "    }\n",
       "\n",
       "    .dataframe tbody tr th {\n",
       "        vertical-align: top;\n",
       "    }\n",
       "\n",
       "    .dataframe thead th {\n",
       "        text-align: right;\n",
       "    }\n",
       "</style>\n",
       "<table border=\"1\" class=\"dataframe\">\n",
       "  <thead>\n",
       "    <tr style=\"text-align: right;\">\n",
       "      <th></th>\n",
       "      <th>Embarked</th>\n",
       "      <th>Pclass</th>\n",
       "      <th>Age</th>\n",
       "      <th>Survived</th>\n",
       "      <th>Title</th>\n",
       "    </tr>\n",
       "  </thead>\n",
       "  <tbody>\n",
       "    <tr>\n",
       "      <th>0</th>\n",
       "      <td>S</td>\n",
       "      <td>3</td>\n",
       "      <td>Adult</td>\n",
       "      <td>Dead</td>\n",
       "      <td>Mr.</td>\n",
       "    </tr>\n",
       "    <tr>\n",
       "      <th>1</th>\n",
       "      <td>C</td>\n",
       "      <td>1</td>\n",
       "      <td>Adult</td>\n",
       "      <td>Survived</td>\n",
       "      <td>Mrs.</td>\n",
       "    </tr>\n",
       "    <tr>\n",
       "      <th>2</th>\n",
       "      <td>S</td>\n",
       "      <td>3</td>\n",
       "      <td>Adult</td>\n",
       "      <td>Survived</td>\n",
       "      <td>Miss.</td>\n",
       "    </tr>\n",
       "    <tr>\n",
       "      <th>3</th>\n",
       "      <td>S</td>\n",
       "      <td>1</td>\n",
       "      <td>Adult</td>\n",
       "      <td>Survived</td>\n",
       "      <td>Mrs.</td>\n",
       "    </tr>\n",
       "    <tr>\n",
       "      <th>4</th>\n",
       "      <td>S</td>\n",
       "      <td>3</td>\n",
       "      <td>Adult</td>\n",
       "      <td>Dead</td>\n",
       "      <td>Mr.</td>\n",
       "    </tr>\n",
       "  </tbody>\n",
       "</table>\n",
       "</div>"
      ],
      "text/plain": [
       "  Embarked  Pclass    Age  Survived  Title\n",
       "0        S       3  Adult      Dead    Mr.\n",
       "1        C       1  Adult  Survived   Mrs.\n",
       "2        S       3  Adult  Survived  Miss.\n",
       "3        S       1  Adult  Survived   Mrs.\n",
       "4        S       3  Adult      Dead    Mr."
      ]
     },
     "execution_count": 5,
     "metadata": {},
     "output_type": "execute_result"
    }
   ],
   "source": [
    "cat_titanic.head()"
   ]
  },
  {
   "cell_type": "markdown",
   "metadata": {},
   "source": [
    "### Data Visualization with Plots\n",
    "---"
   ]
  },
  {
   "cell_type": "code",
   "execution_count": 6,
   "metadata": {},
   "outputs": [
    {
     "name": "stderr",
     "output_type": "stream",
     "text": [
      "C:\\ProgramData\\Anaconda3\\lib\\site-packages\\seaborn\\rcmod.py:400: DeprecationWarning: distutils Version classes are deprecated. Use packaging.version instead.\n",
      "  if LooseVersion(mpl.__version__) >= \"3.0\":\n",
      "C:\\ProgramData\\Anaconda3\\lib\\site-packages\\setuptools\\_distutils\\version.py:346: DeprecationWarning: distutils Version classes are deprecated. Use packaging.version instead.\n",
      "  other = LooseVersion(other)\n",
      "C:\\ProgramData\\Anaconda3\\lib\\site-packages\\seaborn\\categorical.py:381: DeprecationWarning: distutils Version classes are deprecated. Use packaging.version instead.\n",
      "  if LooseVersion(mpl.__version__) < \"3.0\":\n",
      "C:\\ProgramData\\Anaconda3\\lib\\site-packages\\setuptools\\_distutils\\version.py:346: DeprecationWarning: distutils Version classes are deprecated. Use packaging.version instead.\n",
      "  other = LooseVersion(other)\n"
     ]
    },
    {
     "data": {
      "image/png": "[encoded data removed]",
      "text/plain": [
       "<Figure size 640x480 with 1 Axes>"
      ]
     },
     "metadata": {},
     "output_type": "display_data"
    },
    {
     "name": "stderr",
     "output_type": "stream",
     "text": [
      "C:\\ProgramData\\Anaconda3\\lib\\site-packages\\seaborn\\rcmod.py:400: DeprecationWarning: distutils Version classes are deprecated. Use packaging.version instead.\n",
      "  if LooseVersion(mpl.__version__) >= \"3.0\":\n",
      "C:\\ProgramData\\Anaconda3\\lib\\site-packages\\setuptools\\_distutils\\version.py:346: DeprecationWarning: distutils Version classes are deprecated. Use packaging.version instead.\n",
      "  other = LooseVersion(other)\n",
      "C:\\ProgramData\\Anaconda3\\lib\\site-packages\\seaborn\\categorical.py:381: DeprecationWarning: distutils Version classes are deprecated. Use packaging.version instead.\n",
      "  if LooseVersion(mpl.__version__) < \"3.0\":\n",
      "C:\\ProgramData\\Anaconda3\\lib\\site-packages\\setuptools\\_distutils\\version.py:346: DeprecationWarning: distutils Version classes are deprecated. Use packaging.version instead.\n",
      "  other = LooseVersion(other)\n"
     ]
    },
    {
     "data": {
      "image/png": "[encoded data removed]",
      "text/plain": [
       "<Figure size 640x480 with 1 Axes>"
      ]
     },
     "metadata": {},
     "output_type": "display_data"
    },
    {
     "name": "stderr",
     "output_type": "stream",
     "text": [
      "C:\\ProgramData\\Anaconda3\\lib\\site-packages\\seaborn\\rcmod.py:400: DeprecationWarning: distutils Version classes are deprecated. Use packaging.version instead.\n",
      "  if LooseVersion(mpl.__version__) >= \"3.0\":\n",
      "C:\\ProgramData\\Anaconda3\\lib\\site-packages\\setuptools\\_distutils\\version.py:346: DeprecationWarning: distutils Version classes are deprecated. Use packaging.version instead.\n",
      "  other = LooseVersion(other)\n",
      "C:\\ProgramData\\Anaconda3\\lib\\site-packages\\seaborn\\categorical.py:381: DeprecationWarning: distutils Version classes are deprecated. Use packaging.version instead.\n",
      "  if LooseVersion(mpl.__version__) < \"3.0\":\n",
      "C:\\ProgramData\\Anaconda3\\lib\\site-packages\\setuptools\\_distutils\\version.py:346: DeprecationWarning: distutils Version classes are deprecated. Use packaging.version instead.\n",
      "  other = LooseVersion(other)\n"
     ]
    },
    {
     "data": {
      "image/png": "[encoded data removed]",
      "text/plain": [
       "<Figure size 640x480 with 1 Axes>"
      ]
     },
     "metadata": {},
     "output_type": "display_data"
    },
    {
     "name": "stderr",
     "output_type": "stream",
     "text": [
      "C:\\ProgramData\\Anaconda3\\lib\\site-packages\\seaborn\\rcmod.py:400: DeprecationWarning: distutils Version classes are deprecated. Use packaging.version instead.\n",
      "  if LooseVersion(mpl.__version__) >= \"3.0\":\n",
      "C:\\ProgramData\\Anaconda3\\lib\\site-packages\\setuptools\\_distutils\\version.py:346: DeprecationWarning: distutils Version classes are deprecated. Use packaging.version instead.\n",
      "  other = LooseVersion(other)\n",
      "C:\\ProgramData\\Anaconda3\\lib\\site-packages\\seaborn\\categorical.py:381: DeprecationWarning: distutils Version classes are deprecated. Use packaging.version instead.\n",
      "  if LooseVersion(mpl.__version__) < \"3.0\":\n",
      "C:\\ProgramData\\Anaconda3\\lib\\site-packages\\setuptools\\_distutils\\version.py:346: DeprecationWarning: distutils Version classes are deprecated. Use packaging.version instead.\n",
      "  other = LooseVersion(other)\n"
     ]
    },
    {
     "data": {
      "image/png": "[encoded data removed]",
      "text/plain": [
       "<Figure size 640x480 with 1 Axes>"
      ]
     },
     "metadata": {},
     "output_type": "display_data"
    },
    {
     "name": "stderr",
     "output_type": "stream",
     "text": [
      "C:\\ProgramData\\Anaconda3\\lib\\site-packages\\seaborn\\rcmod.py:400: DeprecationWarning: distutils Version classes are deprecated. Use packaging.version instead.\n",
      "  if LooseVersion(mpl.__version__) >= \"3.0\":\n",
      "C:\\ProgramData\\Anaconda3\\lib\\site-packages\\setuptools\\_distutils\\version.py:346: DeprecationWarning: distutils Version classes are deprecated. Use packaging.version instead.\n",
      "  other = LooseVersion(other)\n",
      "C:\\ProgramData\\Anaconda3\\lib\\site-packages\\seaborn\\categorical.py:381: DeprecationWarning: distutils Version classes are deprecated. Use packaging.version instead.\n",
      "  if LooseVersion(mpl.__version__) < \"3.0\":\n",
      "C:\\ProgramData\\Anaconda3\\lib\\site-packages\\setuptools\\_distutils\\version.py:346: DeprecationWarning: distutils Version classes are deprecated. Use packaging.version instead.\n",
      "  other = LooseVersion(other)\n"
     ]
    },
    {
     "data": {
      "image/png": "[encoded data removed]",
      "text/plain": [
       "<Figure size 640x480 with 1 Axes>"
      ]
     },
     "metadata": {},
     "output_type": "display_data"
    }
   ],
   "source": [
    "for x in ['Embarked', 'Pclass','Age', 'Sex', 'Title']:\n",
    "    sns.set(style=\"whitegrid\")\n",
    "    ax = sns.countplot(y=x, hue=\"Survived\", data=titanic)\n",
    "    plt.ylabel(x)\n",
    "    plt.title('Survival Plot')\n",
    "    plt.show()"
   ]
  },
  {
   "cell_type": "markdown",
   "metadata": {},
   "source": [
    "## Analysis - Methodology\n",
    "---\n",
    "\n",
    "1. Gender Wise\n",
    "1. Title Wise\n",
    "\n",
    "Because title is also a keyword which shows the **Gender type** of a person. Analysing these both fields\n",
    "together will cause for the results with **100%** association with both fields. \n",
    "\n",
    "#### Example:\n",
    "---\n",
    "- (Mr.) always associated with Male.\n",
    "- (Mrs.) always associated with Female.\n",
    "\n",
    "Putting these two fields together does not make any sense. So that the analysis split into two types.\n",
    "\n",
    "---\n",
    "\n",
    "### Gender Analysis\n",
    "---"
   ]
  },
  {
   "cell_type": "code",
   "execution_count": 7,
   "metadata": {},
   "outputs": [
    {
     "data": {
      "text/html": [
       "<div>\n",
       "<style scoped>\n",
       "    .dataframe tbody tr th:only-of-type {\n",
       "        vertical-align: middle;\n",
       "    }\n",
       "\n",
       "    .dataframe tbody tr th {\n",
       "        vertical-align: top;\n",
       "    }\n",
       "\n",
       "    .dataframe thead th {\n",
       "        text-align: right;\n",
       "    }\n",
       "</style>\n",
       "<table border=\"1\" class=\"dataframe\">\n",
       "  <thead>\n",
       "    <tr style=\"text-align: right;\">\n",
       "      <th></th>\n",
       "      <th>1</th>\n",
       "      <th>2</th>\n",
       "      <th>3</th>\n",
       "      <th>Adult</th>\n",
       "      <th>C</th>\n",
       "      <th>Child</th>\n",
       "      <th>Dead</th>\n",
       "      <th>Old</th>\n",
       "      <th>Q</th>\n",
       "      <th>S</th>\n",
       "      <th>Survived</th>\n",
       "      <th>Teen</th>\n",
       "      <th>Unknown</th>\n",
       "      <th>female</th>\n",
       "      <th>male</th>\n",
       "    </tr>\n",
       "  </thead>\n",
       "  <tbody>\n",
       "    <tr>\n",
       "      <th>0</th>\n",
       "      <td>False</td>\n",
       "      <td>False</td>\n",
       "      <td>True</td>\n",
       "      <td>True</td>\n",
       "      <td>False</td>\n",
       "      <td>False</td>\n",
       "      <td>True</td>\n",
       "      <td>False</td>\n",
       "      <td>False</td>\n",
       "      <td>True</td>\n",
       "      <td>False</td>\n",
       "      <td>False</td>\n",
       "      <td>False</td>\n",
       "      <td>False</td>\n",
       "      <td>True</td>\n",
       "    </tr>\n",
       "    <tr>\n",
       "      <th>1</th>\n",
       "      <td>True</td>\n",
       "      <td>False</td>\n",
       "      <td>False</td>\n",
       "      <td>True</td>\n",
       "      <td>True</td>\n",
       "      <td>False</td>\n",
       "      <td>False</td>\n",
       "      <td>False</td>\n",
       "      <td>False</td>\n",
       "      <td>False</td>\n",
       "      <td>True</td>\n",
       "      <td>False</td>\n",
       "      <td>False</td>\n",
       "      <td>True</td>\n",
       "      <td>False</td>\n",
       "    </tr>\n",
       "    <tr>\n",
       "      <th>2</th>\n",
       "      <td>False</td>\n",
       "      <td>False</td>\n",
       "      <td>True</td>\n",
       "      <td>True</td>\n",
       "      <td>False</td>\n",
       "      <td>False</td>\n",
       "      <td>False</td>\n",
       "      <td>False</td>\n",
       "      <td>False</td>\n",
       "      <td>True</td>\n",
       "      <td>True</td>\n",
       "      <td>False</td>\n",
       "      <td>False</td>\n",
       "      <td>True</td>\n",
       "      <td>False</td>\n",
       "    </tr>\n",
       "    <tr>\n",
       "      <th>3</th>\n",
       "      <td>True</td>\n",
       "      <td>False</td>\n",
       "      <td>False</td>\n",
       "      <td>True</td>\n",
       "      <td>False</td>\n",
       "      <td>False</td>\n",
       "      <td>False</td>\n",
       "      <td>False</td>\n",
       "      <td>False</td>\n",
       "      <td>True</td>\n",
       "      <td>True</td>\n",
       "      <td>False</td>\n",
       "      <td>False</td>\n",
       "      <td>True</td>\n",
       "      <td>False</td>\n",
       "    </tr>\n",
       "    <tr>\n",
       "      <th>4</th>\n",
       "      <td>False</td>\n",
       "      <td>False</td>\n",
       "      <td>True</td>\n",
       "      <td>True</td>\n",
       "      <td>False</td>\n",
       "      <td>False</td>\n",
       "      <td>True</td>\n",
       "      <td>False</td>\n",
       "      <td>False</td>\n",
       "      <td>True</td>\n",
       "      <td>False</td>\n",
       "      <td>False</td>\n",
       "      <td>False</td>\n",
       "      <td>False</td>\n",
       "      <td>True</td>\n",
       "    </tr>\n",
       "  </tbody>\n",
       "</table>\n",
       "</div>"
      ],
      "text/plain": [
       "       1      2      3  Adult      C  Child   Dead    Old      Q      S  \\\n",
       "0  False  False   True   True  False  False   True  False  False   True   \n",
       "1   True  False  False   True   True  False  False  False  False  False   \n",
       "2  False  False   True   True  False  False  False  False  False   True   \n",
       "3   True  False  False   True  False  False  False  False  False   True   \n",
       "4  False  False   True   True  False  False   True  False  False   True   \n",
       "\n",
       "   Survived   Teen  Unknown  female   male  \n",
       "0     False  False    False   False   True  \n",
       "1      True  False    False    True  False  \n",
       "2      True  False    False    True  False  \n",
       "3      True  False    False    True  False  \n",
       "4     False  False    False   False   True  "
      ]
     },
     "execution_count": 7,
     "metadata": {},
     "output_type": "execute_result"
    }
   ],
   "source": [
    "dataset = []\n",
    "for i in range(0, in_titanic.shape[0]-1):\n",
    "    dataset.append([str(in_titanic.values[i,j]) for j in range(0, in_titanic.shape[1])])\n",
    "# dataset = in_titanic.to_xarray()\n",
    "\n",
    "oht = TransactionEncoder()\n",
    "oht_ary = oht.fit(dataset).transform(dataset)\n",
    "df = pd.DataFrame(oht_ary, columns=oht.columns_)\n",
    "df.head()"
   ]
  },
  {
   "cell_type": "markdown",
   "metadata": {},
   "source": [
    "## Nominal Data fields"
   ]
  },
  {
   "cell_type": "code",
   "execution_count": 8,
   "metadata": {},
   "outputs": [
    {
     "data": {
      "text/plain": [
       "['1',\n",
       " '2',\n",
       " '3',\n",
       " 'Adult',\n",
       " 'C',\n",
       " 'Child',\n",
       " 'Dead',\n",
       " 'Old',\n",
       " 'Q',\n",
       " 'S',\n",
       " 'Survived',\n",
       " 'Teen',\n",
       " 'Unknown',\n",
       " 'female',\n",
       " 'male']"
      ]
     },
     "execution_count": 8,
     "metadata": {},
     "output_type": "execute_result"
    }
   ],
   "source": [
    "oht.columns_"
   ]
  },
  {
   "cell_type": "markdown",
   "metadata": {},
   "source": [
    "## FP_GROWTH output"
   ]
  },
  {
   "cell_type": "code",
   "execution_count": 9,
   "metadata": {},
   "outputs": [
    {
     "data": {
      "text/html": [
       "<div>\n",
       "<style scoped>\n",
       "    .dataframe tbody tr th:only-of-type {\n",
       "        vertical-align: middle;\n",
       "    }\n",
       "\n",
       "    .dataframe tbody tr th {\n",
       "        vertical-align: top;\n",
       "    }\n",
       "\n",
       "    .dataframe thead th {\n",
       "        text-align: right;\n",
       "    }\n",
       "</style>\n",
       "<table border=\"1\" class=\"dataframe\">\n",
       "  <thead>\n",
       "    <tr style=\"text-align: right;\">\n",
       "      <th></th>\n",
       "      <th>support</th>\n",
       "      <th>itemsets</th>\n",
       "    </tr>\n",
       "  </thead>\n",
       "  <tbody>\n",
       "    <tr>\n",
       "      <th>0</th>\n",
       "      <td>0.723596</td>\n",
       "      <td>(S)</td>\n",
       "    </tr>\n",
       "    <tr>\n",
       "      <th>1</th>\n",
       "      <td>0.647191</td>\n",
       "      <td>(male)</td>\n",
       "    </tr>\n",
       "    <tr>\n",
       "      <th>2</th>\n",
       "      <td>0.615730</td>\n",
       "      <td>(Dead)</td>\n",
       "    </tr>\n",
       "    <tr>\n",
       "      <th>3</th>\n",
       "      <td>0.550562</td>\n",
       "      <td>(3)</td>\n",
       "    </tr>\n",
       "    <tr>\n",
       "      <th>4</th>\n",
       "      <td>0.528090</td>\n",
       "      <td>(Adult)</td>\n",
       "    </tr>\n",
       "  </tbody>\n",
       "</table>\n",
       "</div>"
      ],
      "text/plain": [
       "    support itemsets\n",
       "0  0.723596      (S)\n",
       "1  0.647191   (male)\n",
       "2  0.615730   (Dead)\n",
       "3  0.550562      (3)\n",
       "4  0.528090  (Adult)"
      ]
     },
     "execution_count": 9,
     "metadata": {},
     "output_type": "execute_result"
    }
   ],
   "source": [
    "from mlxtend.frequent_patterns import fpgrowth\n",
    "output = fpgrowth(df, min_support=0.3, use_colnames=True)\n",
    "output.head()"
   ]
  },
  {
   "cell_type": "markdown",
   "metadata": {},
   "source": [
    "### Running rule mining with Configuration :\n",
    "---"
   ]
  },
  {
   "cell_type": "code",
   "execution_count": 10,
   "metadata": {},
   "outputs": [
    {
     "name": "stdout",
     "output_type": "stream",
     "text": [
      "['antecedents' 'consequents' 'antecedent support' 'consequent support'\n",
      " 'support' 'confidence' 'lift' 'leverage' 'conviction']\n",
      "-------------------------------------\n",
      "Configuration :  antecedent support  :  0.7\n",
      "-------------------------------------\n",
      "  antecedents   consequents  antecedent support  consequent support   support  \\\n",
      "0         (S)        (male)            0.723596            0.647191  0.495506   \n",
      "1         (S)        (Dead)            0.723596            0.615730  0.479775   \n",
      "2         (S)  (Dead, male)            0.723596            0.524719  0.408989   \n",
      "3         (S)           (3)            0.723596            0.550562  0.396629   \n",
      "4         (S)     (Dead, 3)            0.723596            0.416854  0.321348   \n",
      "5         (S)       (Adult)            0.723596            0.528090  0.417978   \n",
      "\n",
      "   confidence      lift  leverage  conviction  \n",
      "0    0.684783  1.058084  0.027201    1.119256  \n",
      "1    0.663043  1.076841  0.034236    1.140413  \n",
      "2    0.565217  1.077181  0.029304    1.093146  \n",
      "3    0.548137  0.995595 -0.001755    0.994633  \n",
      "4    0.444099  1.065360  0.019715    1.049011  \n",
      "5    0.577640  1.093828  0.035854    1.117317  \n"
     ]
    },
    {
     "data": {
      "image/png": "[encoded data removed]",
      "text/plain": [
       "<Figure size 640x480 with 1 Axes>"
      ]
     },
     "metadata": {},
     "output_type": "display_data"
    },
    {
     "name": "stdout",
     "output_type": "stream",
     "text": [
      "Empty Data Frame For Metric Type :  support  on Threshold :  0.6\n",
      "Empty Data Frame For Metric Type :  confidence  on Threshold :  0.9\n",
      "Empty Data Frame For Metric Type :  conviction  on Threshold :  3\n"
     ]
    }
   ],
   "source": [
    "config = [\n",
    "    ('antecedent support', 0.7),\n",
    "    ('support', 0.6),\n",
    "    ('confidence', 0.9),\n",
    "    ('conviction', 3)\n",
    "]\n",
    "\n",
    "for metric_type, th in config:\n",
    "    rules = association_rules(output, metric=metric_type, min_threshold=th)\n",
    "    if rules.empty:\n",
    "        print ('Empty Data Frame For Metric Type : ',metric_type,' on Threshold : ',th)\n",
    "        continue\n",
    "    print (rules.columns.values)\n",
    "    print ('-------------------------------------')\n",
    "    print ('Configuration : ', metric_type, ' : ', th)\n",
    "    print ('-------------------------------------')\n",
    "    print (rules)\n",
    "\n",
    "    support=rules['support'].values\n",
    "    confidence=rules['confidence'].values\n",
    "\n",
    "    plt.scatter(support, confidence, edgecolors='red')\n",
    "    plt.xlabel('support')\n",
    "    plt.ylabel('confidence')\n",
    "    plt.title(metric_type+' : '+str(th))\n",
    "    plt.show()"
   ]
  },
  {
   "cell_type": "markdown",
   "metadata": {},
   "source": [
    "## Gender Result\n",
    "---\n",
    "\n",
    "## Interesting Information: Gender Analysis\n",
    "---\n",
    "\n",
    "- Persons Who are Sex: female       With  PcClass: 1, have 96.80 % Confidence Survived : True\n",
    "- Persons Who are PcClass: 2        With  Survived: False, have 93.81% Confidence Sex: Male\n",
    "\n",
    "## Common Information:\n",
    "---\n",
    "\n",
    "- Persons Who are Survived : False  With  Age : UnKnown , have 81.88 %  Confidence  PcClass : 3\n",
    "- Persons Who are Age : Adult       With  PcClass : 2   , have 90.2 %   Confidence Embarked : S\n",
    "- Persons Who are Survived: False   With  Age : Adult and PcClass : 3, have 86.36% Confidence Embarked: S\n",
    "\n",
    "---\n",
    "\n",
    "### Title Analysis\n",
    "---"
   ]
  },
  {
   "cell_type": "code",
   "execution_count": 11,
   "metadata": {},
   "outputs": [
    {
     "data": {
      "text/html": [
       "<div>\n",
       "<style scoped>\n",
       "    .dataframe tbody tr th:only-of-type {\n",
       "        vertical-align: middle;\n",
       "    }\n",
       "\n",
       "    .dataframe tbody tr th {\n",
       "        vertical-align: top;\n",
       "    }\n",
       "\n",
       "    .dataframe thead th {\n",
       "        text-align: right;\n",
       "    }\n",
       "</style>\n",
       "<table border=\"1\" class=\"dataframe\">\n",
       "  <thead>\n",
       "    <tr style=\"text-align: right;\">\n",
       "      <th></th>\n",
       "      <th>1</th>\n",
       "      <th>2</th>\n",
       "      <th>3</th>\n",
       "      <th>Adult</th>\n",
       "      <th>C</th>\n",
       "      <th>Capt.</th>\n",
       "      <th>Child</th>\n",
       "      <th>Col.</th>\n",
       "      <th>Dead</th>\n",
       "      <th>Don.</th>\n",
       "      <th>...</th>\n",
       "      <th>Ms.</th>\n",
       "      <th>Old</th>\n",
       "      <th>Q</th>\n",
       "      <th>Rev.</th>\n",
       "      <th>S</th>\n",
       "      <th>Sir.</th>\n",
       "      <th>Survived</th>\n",
       "      <th>Teen</th>\n",
       "      <th>Title_UK</th>\n",
       "      <th>Unknown</th>\n",
       "    </tr>\n",
       "  </thead>\n",
       "  <tbody>\n",
       "    <tr>\n",
       "      <th>0</th>\n",
       "      <td>False</td>\n",
       "      <td>False</td>\n",
       "      <td>True</td>\n",
       "      <td>True</td>\n",
       "      <td>False</td>\n",
       "      <td>False</td>\n",
       "      <td>False</td>\n",
       "      <td>False</td>\n",
       "      <td>True</td>\n",
       "      <td>False</td>\n",
       "      <td>...</td>\n",
       "      <td>False</td>\n",
       "      <td>False</td>\n",
       "      <td>False</td>\n",
       "      <td>False</td>\n",
       "      <td>True</td>\n",
       "      <td>False</td>\n",
       "      <td>False</td>\n",
       "      <td>False</td>\n",
       "      <td>False</td>\n",
       "      <td>False</td>\n",
       "    </tr>\n",
       "    <tr>\n",
       "      <th>1</th>\n",
       "      <td>True</td>\n",
       "      <td>False</td>\n",
       "      <td>False</td>\n",
       "      <td>True</td>\n",
       "      <td>True</td>\n",
       "      <td>False</td>\n",
       "      <td>False</td>\n",
       "      <td>False</td>\n",
       "      <td>False</td>\n",
       "      <td>False</td>\n",
       "      <td>...</td>\n",
       "      <td>False</td>\n",
       "      <td>False</td>\n",
       "      <td>False</td>\n",
       "      <td>False</td>\n",
       "      <td>False</td>\n",
       "      <td>False</td>\n",
       "      <td>True</td>\n",
       "      <td>False</td>\n",
       "      <td>False</td>\n",
       "      <td>False</td>\n",
       "    </tr>\n",
       "    <tr>\n",
       "      <th>2</th>\n",
       "      <td>False</td>\n",
       "      <td>False</td>\n",
       "      <td>True</td>\n",
       "      <td>True</td>\n",
       "      <td>False</td>\n",
       "      <td>False</td>\n",
       "      <td>False</td>\n",
       "      <td>False</td>\n",
       "      <td>False</td>\n",
       "      <td>False</td>\n",
       "      <td>...</td>\n",
       "      <td>False</td>\n",
       "      <td>False</td>\n",
       "      <td>False</td>\n",
       "      <td>False</td>\n",
       "      <td>True</td>\n",
       "      <td>False</td>\n",
       "      <td>True</td>\n",
       "      <td>False</td>\n",
       "      <td>False</td>\n",
       "      <td>False</td>\n",
       "    </tr>\n",
       "    <tr>\n",
       "      <th>3</th>\n",
       "      <td>True</td>\n",
       "      <td>False</td>\n",
       "      <td>False</td>\n",
       "      <td>True</td>\n",
       "      <td>False</td>\n",
       "      <td>False</td>\n",
       "      <td>False</td>\n",
       "      <td>False</td>\n",
       "      <td>False</td>\n",
       "      <td>False</td>\n",
       "      <td>...</td>\n",
       "      <td>False</td>\n",
       "      <td>False</td>\n",
       "      <td>False</td>\n",
       "      <td>False</td>\n",
       "      <td>True</td>\n",
       "      <td>False</td>\n",
       "      <td>True</td>\n",
       "      <td>False</td>\n",
       "      <td>False</td>\n",
       "      <td>False</td>\n",
       "    </tr>\n",
       "    <tr>\n",
       "      <th>4</th>\n",
       "      <td>False</td>\n",
       "      <td>False</td>\n",
       "      <td>True</td>\n",
       "      <td>True</td>\n",
       "      <td>False</td>\n",
       "      <td>False</td>\n",
       "      <td>False</td>\n",
       "      <td>False</td>\n",
       "      <td>True</td>\n",
       "      <td>False</td>\n",
       "      <td>...</td>\n",
       "      <td>False</td>\n",
       "      <td>False</td>\n",
       "      <td>False</td>\n",
       "      <td>False</td>\n",
       "      <td>True</td>\n",
       "      <td>False</td>\n",
       "      <td>False</td>\n",
       "      <td>False</td>\n",
       "      <td>False</td>\n",
       "      <td>False</td>\n",
       "    </tr>\n",
       "  </tbody>\n",
       "</table>\n",
       "<p>5 rows × 30 columns</p>\n",
       "</div>"
      ],
      "text/plain": [
       "       1      2      3  Adult      C  Capt.  Child   Col.   Dead   Don.  ...  \\\n",
       "0  False  False   True   True  False  False  False  False   True  False  ...   \n",
       "1   True  False  False   True   True  False  False  False  False  False  ...   \n",
       "2  False  False   True   True  False  False  False  False  False  False  ...   \n",
       "3   True  False  False   True  False  False  False  False  False  False  ...   \n",
       "4  False  False   True   True  False  False  False  False   True  False  ...   \n",
       "\n",
       "     Ms.    Old      Q   Rev.      S   Sir.  Survived   Teen  Title_UK  \\\n",
       "0  False  False  False  False   True  False     False  False     False   \n",
       "1  False  False  False  False  False  False      True  False     False   \n",
       "2  False  False  False  False   True  False      True  False     False   \n",
       "3  False  False  False  False   True  False      True  False     False   \n",
       "4  False  False  False  False   True  False     False  False     False   \n",
       "\n",
       "   Unknown  \n",
       "0    False  \n",
       "1    False  \n",
       "2    False  \n",
       "3    False  \n",
       "4    False  \n",
       "\n",
       "[5 rows x 30 columns]"
      ]
     },
     "execution_count": 11,
     "metadata": {},
     "output_type": "execute_result"
    }
   ],
   "source": [
    "dataset = []\n",
    "in_titanic=cat_titanic\n",
    "for i in range(0, in_titanic.shape[0]-1):\n",
    "    dataset.append([str(in_titanic.values[i,j]) for j in range(0, in_titanic.shape[1])])\n",
    "# dataset = in_titanic.to_xarray()\n",
    "\n",
    "oht = TransactionEncoder()\n",
    "oht_ary = oht.fit(dataset).transform(dataset)\n",
    "df = pd.DataFrame(oht_ary, columns=oht.columns_)\n",
    "df.head()"
   ]
  },
  {
   "cell_type": "code",
   "execution_count": null,
   "metadata": {},
   "outputs": [
    {
     "name": "stdout",
     "output_type": "stream",
     "text": [
      "['antecedents' 'consequents' 'antecedent support' 'consequent support'\n",
      " 'support' 'confidence' 'lift' 'leverage' 'conviction']\n",
      "-------------------------------------\n",
      "Configuration :  antecedent support  :  0.7\n",
      "-------------------------------------\n",
      "  antecedents  consequents  antecedent support  consequent support   support  \\\n",
      "0         (S)       (Dead)            0.723596            0.615730  0.479775   \n",
      "1         (S)        (Mr.)            0.723596            0.579775  0.446067   \n",
      "2         (S)  (Dead, Mr.)            0.723596            0.488764  0.382022   \n",
      "3         (S)          (3)            0.723596            0.550562  0.396629   \n",
      "4         (S)    (Dead, 3)            0.723596            0.416854  0.321348   \n",
      "5         (S)      (Adult)            0.723596            0.528090  0.417978   \n",
      "\n",
      "   confidence      lift  leverage  conviction  \n",
      "0    0.663043  1.076841  0.034236    1.140413  \n",
      "1    0.616460  1.063273  0.026545    1.095647  \n",
      "2    0.527950  1.080174  0.028355    1.083013  \n",
      "3    0.548137  0.995595 -0.001755    0.994633  \n",
      "4    0.444099  1.065360  0.019715    1.049011  \n",
      "5    0.577640  1.093828  0.035854    1.117317  \n"
     ]
    },
    {
     "data": {
      "image/png": "[encoded data removed]",
      "text/plain": [
       "<Figure size 640x480 with 1 Axes>"
      ]
     },
     "metadata": {},
     "output_type": "display_data"
    },
    {
     "name": "stdout",
     "output_type": "stream",
     "text": [
      "Empty Data Frame For Metric Type :  support  on Threshold :  0.7\n",
      "Empty Data Frame For Metric Type :  confidence  on Threshold :  0.9\n",
      "['antecedents' 'consequents' 'antecedent support' 'consequent support'\n",
      " 'support' 'confidence' 'lift' 'leverage' 'conviction']\n",
      "-------------------------------------\n",
      "Configuration :  conviction  :  3\n",
      "-------------------------------------\n",
      "  antecedents consequents  antecedent support  consequent support   support  \\\n",
      "0    (3, Mr.)      (Dead)            0.357303             0.61573  0.316854   \n",
      "\n",
      "   confidence      lift  leverage  conviction  \n",
      "0    0.886792  1.440229  0.096851    3.394382  \n"
     ]
    },
    {
     "data": {
      "image/png": "[encoded data removed]",
      "text/plain": [
       "<Figure size 640x480 with 1 Axes>"
      ]
     },
     "metadata": {},
     "output_type": "display_data"
    }
   ],
   "source": [
    "output = fpgrowth(df, min_support=0.3, use_colnames=True)\n",
    "config = [\n",
    "    ('antecedent support', 0.7),\n",
    "    ('support', 0.7),\n",
    "    ('confidence', 0.9),\n",
    "    ('conviction', 3)\n",
    "]\n",
    "\n",
    "for metric_type, th in config:\n",
    "    rules = association_rules(output, metric=metric_type, min_threshold=th)\n",
    "    if rules.empty:\n",
    "        print ('Empty Data Frame For Metric Type : ',metric_type,' on Threshold : ',th)\n",
    "        continue\n",
    "    print (rules.columns.values)\n",
    "    print ('-------------------------------------')\n",
    "    print ('Configuration : ', metric_type, ' : ', th)\n",
    "    print ('-------------------------------------')\n",
    "    print (rules)\n",
    "\n",
    "    support=rules['support'].values\n",
    "    confidence=rules['confidence'].values\n",
    "\n",
    "    plt.scatter(support, confidence, edgecolors='red')\n",
    "    plt.xlabel('support')\n",
    "    plt.ylabel('confidence')\n",
    "    plt.title(metric_type+' : '+str(th))\n",
    "    plt.show()"
   ]
  },
  {
   "cell_type": "markdown",
   "metadata": {},
   "source": [
    "## Title Result\n",
    "---\n",
    "\n",
    "## Interesting Information - Title Analysis:\n",
    "\n",
    "- Persons Who are Title : Mr.  With  Class : 3 and Embarked : S, have 88.9796 %  Confidence  Survived : Dead\n",
    "\n",
    "---\n",
    "\n",
    "## How to filter ? - A simple Demo\n",
    "---"
   ]
  },
  {
   "cell_type": "code",
   "execution_count": 13,
   "metadata": {},
   "outputs": [
    {
     "data": {
      "text/html": [
       "<div>\n",
       "<style scoped>\n",
       "    .dataframe tbody tr th:only-of-type {\n",
       "        vertical-align: middle;\n",
       "    }\n",
       "\n",
       "    .dataframe tbody tr th {\n",
       "        vertical-align: top;\n",
       "    }\n",
       "\n",
       "    .dataframe thead th {\n",
       "        text-align: right;\n",
       "    }\n",
       "</style>\n",
       "<table border=\"1\" class=\"dataframe\">\n",
       "  <thead>\n",
       "    <tr style=\"text-align: right;\">\n",
       "      <th></th>\n",
       "      <th>antecedents</th>\n",
       "      <th>consequents</th>\n",
       "      <th>antecedent support</th>\n",
       "      <th>consequent support</th>\n",
       "      <th>support</th>\n",
       "      <th>confidence</th>\n",
       "      <th>lift</th>\n",
       "      <th>leverage</th>\n",
       "      <th>conviction</th>\n",
       "    </tr>\n",
       "  </thead>\n",
       "  <tbody>\n",
       "    <tr>\n",
       "      <th>0</th>\n",
       "      <td>(3, Mr.)</td>\n",
       "      <td>(Dead)</td>\n",
       "      <td>0.357303</td>\n",
       "      <td>0.61573</td>\n",
       "      <td>0.316854</td>\n",
       "      <td>0.886792</td>\n",
       "      <td>1.440229</td>\n",
       "      <td>0.096851</td>\n",
       "      <td>3.394382</td>\n",
       "    </tr>\n",
       "  </tbody>\n",
       "</table>\n",
       "</div>"
      ],
      "text/plain": [
       "  antecedents consequents  antecedent support  consequent support   support  \\\n",
       "0    (3, Mr.)      (Dead)            0.357303             0.61573  0.316854   \n",
       "\n",
       "   confidence      lift  leverage  conviction  \n",
       "0    0.886792  1.440229  0.096851    3.394382  "
      ]
     },
     "execution_count": 13,
     "metadata": {},
     "output_type": "execute_result"
    }
   ],
   "source": [
    "rules[rules['confidence']==rules['confidence'].min()]"
   ]
  },
  {
   "cell_type": "code",
   "execution_count": 14,
   "metadata": {},
   "outputs": [
    {
     "data": {
      "text/html": [
       "<div>\n",
       "<style scoped>\n",
       "    .dataframe tbody tr th:only-of-type {\n",
       "        vertical-align: middle;\n",
       "    }\n",
       "\n",
       "    .dataframe tbody tr th {\n",
       "        vertical-align: top;\n",
       "    }\n",
       "\n",
       "    .dataframe thead th {\n",
       "        text-align: right;\n",
       "    }\n",
       "</style>\n",
       "<table border=\"1\" class=\"dataframe\">\n",
       "  <thead>\n",
       "    <tr style=\"text-align: right;\">\n",
       "      <th></th>\n",
       "      <th>antecedents</th>\n",
       "      <th>consequents</th>\n",
       "      <th>antecedent support</th>\n",
       "      <th>consequent support</th>\n",
       "      <th>support</th>\n",
       "      <th>confidence</th>\n",
       "      <th>lift</th>\n",
       "      <th>leverage</th>\n",
       "      <th>conviction</th>\n",
       "    </tr>\n",
       "  </thead>\n",
       "  <tbody>\n",
       "    <tr>\n",
       "      <th>0</th>\n",
       "      <td>(3, Mr.)</td>\n",
       "      <td>(Dead)</td>\n",
       "      <td>0.357303</td>\n",
       "      <td>0.61573</td>\n",
       "      <td>0.316854</td>\n",
       "      <td>0.886792</td>\n",
       "      <td>1.440229</td>\n",
       "      <td>0.096851</td>\n",
       "      <td>3.394382</td>\n",
       "    </tr>\n",
       "  </tbody>\n",
       "</table>\n",
       "</div>"
      ],
      "text/plain": [
       "  antecedents consequents  antecedent support  consequent support   support  \\\n",
       "0    (3, Mr.)      (Dead)            0.357303             0.61573  0.316854   \n",
       "\n",
       "   confidence      lift  leverage  conviction  \n",
       "0    0.886792  1.440229  0.096851    3.394382  "
      ]
     },
     "execution_count": 14,
     "metadata": {},
     "output_type": "execute_result"
    }
   ],
   "source": [
    "rules[rules['confidence']==rules['confidence'].max()]"
   ]
  },
  {
   "cell_type": "code",
   "execution_count": 15,
   "metadata": {},
   "outputs": [
    {
     "data": {
      "text/html": [
       "<div>\n",
       "<style scoped>\n",
       "    .dataframe tbody tr th:only-of-type {\n",
       "        vertical-align: middle;\n",
       "    }\n",
       "\n",
       "    .dataframe tbody tr th {\n",
       "        vertical-align: top;\n",
       "    }\n",
       "\n",
       "    .dataframe thead th {\n",
       "        text-align: right;\n",
       "    }\n",
       "</style>\n",
       "<table border=\"1\" class=\"dataframe\">\n",
       "  <thead>\n",
       "    <tr style=\"text-align: right;\">\n",
       "      <th></th>\n",
       "      <th>antecedents</th>\n",
       "      <th>consequents</th>\n",
       "      <th>antecedent support</th>\n",
       "      <th>consequent support</th>\n",
       "      <th>support</th>\n",
       "      <th>confidence</th>\n",
       "      <th>lift</th>\n",
       "      <th>leverage</th>\n",
       "      <th>conviction</th>\n",
       "    </tr>\n",
       "  </thead>\n",
       "  <tbody>\n",
       "    <tr>\n",
       "      <th>23</th>\n",
       "      <td>(S)</td>\n",
       "      <td>(Dead, 3)</td>\n",
       "      <td>0.723596</td>\n",
       "      <td>0.416854</td>\n",
       "      <td>0.321348</td>\n",
       "      <td>0.444099</td>\n",
       "      <td>1.06536</td>\n",
       "      <td>0.019715</td>\n",
       "      <td>1.049011</td>\n",
       "    </tr>\n",
       "  </tbody>\n",
       "</table>\n",
       "</div>"
      ],
      "text/plain": [
       "   antecedents consequents  antecedent support  consequent support   support  \\\n",
       "23         (S)   (Dead, 3)            0.723596            0.416854  0.321348   \n",
       "\n",
       "    confidence     lift  leverage  conviction  \n",
       "23    0.444099  1.06536  0.019715    1.049011  "
      ]
     },
     "execution_count": 15,
     "metadata": {},
     "output_type": "execute_result"
    }
   ],
   "source": [
    "rules = association_rules (output, metric='support', min_threshold=0.1)\n",
    "rules[rules['confidence'] == rules['confidence'].min()]"
   ]
  },
  {
   "cell_type": "code",
   "execution_count": 16,
   "metadata": {},
   "outputs": [
    {
     "data": {
      "text/html": [
       "<div>\n",
       "<style scoped>\n",
       "    .dataframe tbody tr th:only-of-type {\n",
       "        vertical-align: middle;\n",
       "    }\n",
       "\n",
       "    .dataframe tbody tr th {\n",
       "        vertical-align: top;\n",
       "    }\n",
       "\n",
       "    .dataframe thead th {\n",
       "        text-align: right;\n",
       "    }\n",
       "</style>\n",
       "<table border=\"1\" class=\"dataframe\">\n",
       "  <thead>\n",
       "    <tr style=\"text-align: right;\">\n",
       "      <th></th>\n",
       "      <th>antecedents</th>\n",
       "      <th>consequents</th>\n",
       "      <th>antecedent support</th>\n",
       "      <th>consequent support</th>\n",
       "      <th>support</th>\n",
       "      <th>confidence</th>\n",
       "      <th>lift</th>\n",
       "      <th>leverage</th>\n",
       "      <th>conviction</th>\n",
       "    </tr>\n",
       "  </thead>\n",
       "  <tbody>\n",
       "    <tr>\n",
       "      <th>26</th>\n",
       "      <td>(3, Mr.)</td>\n",
       "      <td>(Dead)</td>\n",
       "      <td>0.357303</td>\n",
       "      <td>0.61573</td>\n",
       "      <td>0.316854</td>\n",
       "      <td>0.886792</td>\n",
       "      <td>1.440229</td>\n",
       "      <td>0.096851</td>\n",
       "      <td>3.394382</td>\n",
       "    </tr>\n",
       "  </tbody>\n",
       "</table>\n",
       "</div>"
      ],
      "text/plain": [
       "   antecedents consequents  antecedent support  consequent support   support  \\\n",
       "26    (3, Mr.)      (Dead)            0.357303             0.61573  0.316854   \n",
       "\n",
       "    confidence      lift  leverage  conviction  \n",
       "26    0.886792  1.440229  0.096851    3.394382  "
      ]
     },
     "execution_count": 16,
     "metadata": {},
     "output_type": "execute_result"
    }
   ],
   "source": [
    "rules[rules['confidence'] == rules['confidence'].max()]"
   ]
  },
  {
   "cell_type": "markdown",
   "metadata": {},
   "source": [
    "## Conclusion\n",
    "\n",
    "- A sample data mining procedure has been carried out for beginners who are looking for **Association Rule Mining**. titanic data (A well known data) has been took for this scenario and all the elements are converted in to nominal data for our requirement.\n",
    "\n",
    "I hope this helped a bit. Also view my blog [bhanuchander210.github.io](https://bhanuchander210.github.io) for more posts.\n",
    "\n",
    "### Happy learning ...!"
   ]
  }
 ],
 "metadata": {
  "kernelspec": {
   "display_name": "Python 3 (ipykernel)",
   "language": "python",
   "name": "python3"
  },
  "language_info": {
   "codemirror_mode": {
    "name": "ipython",
    "version": 3
   },
   "file_extension": ".py",
   "mimetype": "text/x-python",
   "name": "python",
   "nbconvert_exporter": "python",
   "pygments_lexer": "ipython3",
   "version": "3.9.13"
  }
 },
 "nbformat": 4,
 "nbformat_minor": 4
}
